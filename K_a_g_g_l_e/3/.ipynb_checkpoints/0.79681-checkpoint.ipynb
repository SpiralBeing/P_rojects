{
 "cells": [
  {
   "cell_type": "code",
   "execution_count": 1,
   "metadata": {},
   "outputs": [],
   "source": [
    "import pandas as pd\n",
    "import numpy as np"
   ]
  },
  {
   "cell_type": "code",
   "execution_count": 2,
   "metadata": {},
   "outputs": [],
   "source": [
    "df_train = pd.read_csv(\"nlp-getting-started/train.csv\")\n",
    "df_test = pd.read_csv(\"nlp-getting-started/test.csv\")"
   ]
  },
  {
   "cell_type": "code",
   "execution_count": 3,
   "metadata": {},
   "outputs": [
    {
     "data": {
      "text/html": [
       "<div>\n",
       "<style scoped>\n",
       "    .dataframe tbody tr th:only-of-type {\n",
       "        vertical-align: middle;\n",
       "    }\n",
       "\n",
       "    .dataframe tbody tr th {\n",
       "        vertical-align: top;\n",
       "    }\n",
       "\n",
       "    .dataframe thead th {\n",
       "        text-align: right;\n",
       "    }\n",
       "</style>\n",
       "<table border=\"1\" class=\"dataframe\">\n",
       "  <thead>\n",
       "    <tr style=\"text-align: right;\">\n",
       "      <th></th>\n",
       "      <th>id</th>\n",
       "      <th>keyword</th>\n",
       "      <th>location</th>\n",
       "      <th>text</th>\n",
       "      <th>target</th>\n",
       "    </tr>\n",
       "  </thead>\n",
       "  <tbody>\n",
       "    <tr>\n",
       "      <th>0</th>\n",
       "      <td>1</td>\n",
       "      <td>NaN</td>\n",
       "      <td>NaN</td>\n",
       "      <td>Our Deeds are the Reason of this #earthquake M...</td>\n",
       "      <td>1</td>\n",
       "    </tr>\n",
       "    <tr>\n",
       "      <th>1</th>\n",
       "      <td>4</td>\n",
       "      <td>NaN</td>\n",
       "      <td>NaN</td>\n",
       "      <td>Forest fire near La Ronge Sask. Canada</td>\n",
       "      <td>1</td>\n",
       "    </tr>\n",
       "    <tr>\n",
       "      <th>2</th>\n",
       "      <td>5</td>\n",
       "      <td>NaN</td>\n",
       "      <td>NaN</td>\n",
       "      <td>All residents asked to 'shelter in place' are ...</td>\n",
       "      <td>1</td>\n",
       "    </tr>\n",
       "    <tr>\n",
       "      <th>3</th>\n",
       "      <td>6</td>\n",
       "      <td>NaN</td>\n",
       "      <td>NaN</td>\n",
       "      <td>13,000 people receive #wildfires evacuation or...</td>\n",
       "      <td>1</td>\n",
       "    </tr>\n",
       "    <tr>\n",
       "      <th>4</th>\n",
       "      <td>7</td>\n",
       "      <td>NaN</td>\n",
       "      <td>NaN</td>\n",
       "      <td>Just got sent this photo from Ruby #Alaska as ...</td>\n",
       "      <td>1</td>\n",
       "    </tr>\n",
       "  </tbody>\n",
       "</table>\n",
       "</div>"
      ],
      "text/plain": [
       "   id keyword location                                               text  \\\n",
       "0   1     NaN      NaN  Our Deeds are the Reason of this #earthquake M...   \n",
       "1   4     NaN      NaN             Forest fire near La Ronge Sask. Canada   \n",
       "2   5     NaN      NaN  All residents asked to 'shelter in place' are ...   \n",
       "3   6     NaN      NaN  13,000 people receive #wildfires evacuation or...   \n",
       "4   7     NaN      NaN  Just got sent this photo from Ruby #Alaska as ...   \n",
       "\n",
       "   target  \n",
       "0       1  \n",
       "1       1  \n",
       "2       1  \n",
       "3       1  \n",
       "4       1  "
      ]
     },
     "metadata": {},
     "output_type": "display_data"
    },
    {
     "name": "stdout",
     "output_type": "stream",
     "text": [
      "(7613, 5) (3263, 4)\n"
     ]
    }
   ],
   "source": [
    "display(df_train.head())\n",
    "print(df_train.shape, df_test.shape)"
   ]
  },
  {
   "cell_type": "code",
   "execution_count": 4,
   "metadata": {},
   "outputs": [
    {
     "data": {
      "text/plain": [
       "'Our Deeds are the Reason of this #earthquake May ALLAH Forgive us all'"
      ]
     },
     "execution_count": 4,
     "metadata": {},
     "output_type": "execute_result"
    }
   ],
   "source": [
    "df_train.loc[0,'text']"
   ]
  },
  {
   "cell_type": "code",
   "execution_count": 5,
   "metadata": {},
   "outputs": [],
   "source": [
    "df_train.drop([\"keyword\",\"location\"], axis=1, inplace=True)\n",
    "df_test.drop([\"keyword\",\"location\"], axis=1, inplace=True)"
   ]
  },
  {
   "cell_type": "code",
   "execution_count": 6,
   "metadata": {},
   "outputs": [
    {
     "data": {
      "text/html": [
       "<div>\n",
       "<style scoped>\n",
       "    .dataframe tbody tr th:only-of-type {\n",
       "        vertical-align: middle;\n",
       "    }\n",
       "\n",
       "    .dataframe tbody tr th {\n",
       "        vertical-align: top;\n",
       "    }\n",
       "\n",
       "    .dataframe thead th {\n",
       "        text-align: right;\n",
       "    }\n",
       "</style>\n",
       "<table border=\"1\" class=\"dataframe\">\n",
       "  <thead>\n",
       "    <tr style=\"text-align: right;\">\n",
       "      <th></th>\n",
       "      <th>id</th>\n",
       "      <th>text</th>\n",
       "      <th>target</th>\n",
       "    </tr>\n",
       "  </thead>\n",
       "  <tbody>\n",
       "    <tr>\n",
       "      <th>0</th>\n",
       "      <td>1</td>\n",
       "      <td>Our Deeds are the Reason of this #earthquake M...</td>\n",
       "      <td>1</td>\n",
       "    </tr>\n",
       "    <tr>\n",
       "      <th>1</th>\n",
       "      <td>4</td>\n",
       "      <td>Forest fire near La Ronge Sask. Canada</td>\n",
       "      <td>1</td>\n",
       "    </tr>\n",
       "  </tbody>\n",
       "</table>\n",
       "</div>"
      ],
      "text/plain": [
       "   id                                               text  target\n",
       "0   1  Our Deeds are the Reason of this #earthquake M...       1\n",
       "1   4             Forest fire near La Ronge Sask. Canada       1"
      ]
     },
     "metadata": {},
     "output_type": "display_data"
    }
   ],
   "source": [
    "display(df_train.head(2))"
   ]
  },
  {
   "cell_type": "markdown",
   "metadata": {},
   "source": [
    "## Check for missing values:"
   ]
  },
  {
   "cell_type": "code",
   "execution_count": 7,
   "metadata": {},
   "outputs": [
    {
     "data": {
      "text/plain": [
       "id        0\n",
       "text      0\n",
       "target    0\n",
       "dtype: int64"
      ]
     },
     "execution_count": 7,
     "metadata": {},
     "output_type": "execute_result"
    }
   ],
   "source": [
    "df_train.isnull().sum()"
   ]
  },
  {
   "cell_type": "code",
   "execution_count": 8,
   "metadata": {},
   "outputs": [
    {
     "data": {
      "text/plain": [
       "0    4342\n",
       "1    3271\n",
       "Name: target, dtype: int64"
      ]
     },
     "metadata": {},
     "output_type": "display_data"
    }
   ],
   "source": [
    "display(df_train.target.value_counts())"
   ]
  },
  {
   "cell_type": "markdown",
   "metadata": {},
   "source": [
    "<font color=green>Не сильная разбалансированность. Оставим все как есть</font>"
   ]
  },
  {
   "cell_type": "code",
   "execution_count": 9,
   "metadata": {},
   "outputs": [
    {
     "data": {
      "text/plain": [
       "Pandas(Index=0, id=1, text='Our Deeds are the Reason of this #earthquake May ALLAH Forgive us all', target=1)"
      ]
     },
     "execution_count": 9,
     "metadata": {},
     "output_type": "execute_result"
    }
   ],
   "source": [
    "next(df_train.itertuples())"
   ]
  },
  {
   "cell_type": "markdown",
   "metadata": {},
   "source": [
    "## Detect & remove empty strings"
   ]
  },
  {
   "cell_type": "code",
   "execution_count": 10,
   "metadata": {},
   "outputs": [
    {
     "name": "stdout",
     "output_type": "stream",
     "text": [
      "0 blanks:  []\n"
     ]
    }
   ],
   "source": [
    "blanks = []\n",
    "\n",
    "for index, i, text, target in df_train.itertuples():  # iterate over the DataFrame\n",
    "    if type(text)==str:            # avoid NaN values\n",
    "        if text.isspace():         # test 'review' for whitespace\n",
    "            blanks.append(i) \n",
    "        \n",
    "print(len(blanks), 'blanks: ', blanks)\n",
    "\n",
    "df_train.drop(blanks, inplace=True)"
   ]
  },
  {
   "cell_type": "markdown",
   "metadata": {},
   "source": [
    "# EDA"
   ]
  },
  {
   "cell_type": "markdown",
   "metadata": {},
   "source": [
    "### 1. Избавимся от ссылок"
   ]
  },
  {
   "cell_type": "code",
   "execution_count": 11,
   "metadata": {},
   "outputs": [
    {
     "name": "stdout",
     "output_type": "stream",
     "text": [
      "#stormchase Violent Record Breaking EF-5 El Reno Oklahoma Tornado Nearly Runs Over ... - http://t.co/3SICroAaNz http://t.co/I27Oa0HISp\n",
      "['http://t.co/3SICroAaNz', 'http://t.co/I27Oa0HISp']\n"
     ]
    },
    {
     "data": {
      "text/plain": [
       "'#stormchase Violent Record Breaking EF-5 El Reno Oklahoma Tornado Nearly Runs Over ... -  '"
      ]
     },
     "execution_count": 11,
     "metadata": {},
     "output_type": "execute_result"
    }
   ],
   "source": [
    "import re\n",
    "line = df_train[\"text\"].head(-5).values[-1]\n",
    "print(line)\n",
    "\n",
    "pattern = r'http://[/.\\w]+'#cuz maybe https://... or http://  or just http\n",
    "print(re.findall(pattern, line))\n",
    "\n",
    "re.sub(pattern,'',line)"
   ]
  },
  {
   "cell_type": "code",
   "execution_count": 12,
   "metadata": {},
   "outputs": [],
   "source": [
    "def get_rid_of_link(text):\n",
    "    raw_s = r'{}'.format(text)\n",
    "    pattern = r'http[:/.\\w]+'\n",
    "    raw_s = re.sub(pattern,'',raw_s)\n",
    "    return(raw_s)\n",
    "\n",
    "df_train[\"text\"] = df_train[\"text\"].apply(get_rid_of_link)\n",
    "df_test[\"text\"] = df_test[\"text\"].apply(get_rid_of_link)\n",
    "df_train.to_csv(\"nlp-getting-started/train_without_link.csv\", index=False)\n",
    "df_test.to_csv(\"nlp-getting-started/test_without_link.csv\", index=False)"
   ]
  },
  {
   "cell_type": "markdown",
   "metadata": {},
   "source": [
    "### Создание features"
   ]
  },
  {
   "cell_type": "markdown",
   "metadata": {},
   "source": [
    "### 2. Find time (am/pm/UTC/..)"
   ]
  },
  {
   "cell_type": "code",
   "execution_count": 13,
   "metadata": {},
   "outputs": [
    {
     "name": "stdout",
     "output_type": "stream",
     "text": [
      "['10:34:24', 'UTC', '06:34:24', '4:00']\n",
      "Earthquake : M 3.4 - 96km N of Brenas Puerto Rico: Time2015-08-05  2015-08-05  - atÛ_\n",
      "Earthquake : M 3.4 - 96km N of Brenas Puerto Rico: Time2015-08-05 10:34:24 UTC2015-08-05 06:34:24 -4:00 atÛ_\n",
      "[]\n"
     ]
    }
   ],
   "source": [
    "pattern = r\"[\\d]+:[\\d]+:[\\d]+\"\n",
    "pattern_2 = r\"[\\d]+:[\\d]+\"\n",
    "pattern_3 = r\"(am|pm|UTC)\"\n",
    "\n",
    "pattern = r\"[\\d]+:[\\d]+:[\\d]+|[\\d]+:[\\d]+|am|pm|UTC\"\n",
    "\n",
    "line = r\"Earthquake : M 3.4 - 96km N of Brenas Puerto Rico: Time2015-08-05 10:34:24 UTC2015-08-05 06:34:24 -4:00 atÛ_\"\n",
    "print(re.findall(pattern, line))\n",
    "print(re.sub(pattern, \"\",line))\n",
    "print(line)\n",
    "\n",
    "line = r\"Meow, Sparta\"\n",
    "print(re.findall(pattern, line))"
   ]
  },
  {
   "cell_type": "code",
   "execution_count": 14,
   "metadata": {},
   "outputs": [],
   "source": [
    "def create_bool_time_feature(text):\n",
    "    raw_s = r'{}'.format(text)\n",
    "    pattern = r\"[\\d]+:[\\d]+:[\\d]+|[\\d]+:[\\d]+|am|pm|UTC\"\n",
    "    if(len(re.findall(pattern, raw_s))!=0):\n",
    "        return(1)\n",
    "    else:\n",
    "        return(0)\n",
    "    \n",
    "def get_rid_of_time(text):\n",
    "    raw_s = r'{}'.format(text)\n",
    "    pattern = r\"[\\d]+:[\\d]+:[\\d]+|[\\d]+:[\\d]+|am|pm|UTC\"\n",
    "    raw_s = re.sub(pattern,'',raw_s)\n",
    "    return(raw_s)\n",
    "\n"
   ]
  },
  {
   "cell_type": "code",
   "execution_count": 15,
   "metadata": {},
   "outputs": [],
   "source": [
    "df_train[\"time\"] = df_train[\"text\"].apply(create_bool_time_feature)\n",
    "df_test[\"time\"] = df_test[\"text\"].apply(create_bool_time_feature)\n",
    "\n",
    "df_train[\"text\"] = df_train[\"text\"].apply(get_rid_of_time)\n",
    "df_test[\"text\"] = df_test[\"text\"].apply(get_rid_of_time)"
   ]
  },
  {
   "cell_type": "code",
   "execution_count": 16,
   "metadata": {},
   "outputs": [
    {
     "data": {
      "text/plain": [
       "0    5898\n",
       "1    1715\n",
       "Name: time, dtype: int64"
      ]
     },
     "execution_count": 16,
     "metadata": {},
     "output_type": "execute_result"
    }
   ],
   "source": [
    "df_train[\"time\"].value_counts()"
   ]
  },
  {
   "cell_type": "markdown",
   "metadata": {},
   "source": [
    "### 3. Find Countries, cities, states "
   ]
  },
  {
   "cell_type": "code",
   "execution_count": 17,
   "metadata": {},
   "outputs": [
    {
     "data": {
      "text/plain": [
       "\"\\nimport spacy\\nnlp = spacy.load('en_core_web_md')#small version\\n\""
      ]
     },
     "execution_count": 17,
     "metadata": {},
     "output_type": "execute_result"
    }
   ],
   "source": [
    "'''\n",
    "import spacy\n",
    "nlp = spacy.load('en_core_web_md')#small version\n",
    "'''"
   ]
  },
  {
   "cell_type": "code",
   "execution_count": 18,
   "metadata": {},
   "outputs": [
    {
     "data": {
      "text/plain": [
       "'\\ndef create_bool_GPE(text):\\n    raw_s = nlp(u\\'{}\\'.format(text))\\n    GPE_list = [1 for val in raw_s.ents if val.label_==\"GPE\"]\\n    if(len(GPE_list)!=0):\\n        return(1)\\n    else:\\n        return(0)\\n    \\ndef get_rid_of_GPE(text):\\n    raw_s = r\\'{}\\'.format(text)\\n    raw_s_nlp = nlp(u\\'{}\\'.format(text))\\n    GPE_list = [val.text for val in raw_s_nlp.ents if val.label_==\"GPE\"]\\n    for GPE_item in GPE_list:\\n        try:\\n            raw_s = re.sub(GPE_item, \\'\\', raw_s)\\n        except:\\n            pass\\n    return(raw_s)\\n\\n\\n\\ndoc8 = nlp(u\\'A Cessna airplane accident in Ocampo Coahuila Mexico on July 29 2015 killed four men including a State of Coahuila government official. Horrible Accident Man Died In Wings of Airplane (29-07-2015)\\')\\n\\nGPE_list = [val.text for val in doc8.ents if val.label_==\"GPE\"]\\nprint(GPE_list)\\nprint(doc8)\\nprint(get_rid_of_GPE(doc8))\\n'"
      ]
     },
     "execution_count": 18,
     "metadata": {},
     "output_type": "execute_result"
    }
   ],
   "source": [
    "'''\n",
    "def create_bool_GPE(text):\n",
    "    raw_s = nlp(u'{}'.format(text))\n",
    "    GPE_list = [1 for val in raw_s.ents if val.label_==\"GPE\"]\n",
    "    if(len(GPE_list)!=0):\n",
    "        return(1)\n",
    "    else:\n",
    "        return(0)\n",
    "    \n",
    "def get_rid_of_GPE(text):\n",
    "    raw_s = r'{}'.format(text)\n",
    "    raw_s_nlp = nlp(u'{}'.format(text))\n",
    "    GPE_list = [val.text for val in raw_s_nlp.ents if val.label_==\"GPE\"]\n",
    "    for GPE_item in GPE_list:\n",
    "        try:\n",
    "            raw_s = re.sub(GPE_item, '', raw_s)\n",
    "        except:\n",
    "            pass\n",
    "    return(raw_s)\n",
    "\n",
    "\n",
    "\n",
    "doc8 = nlp(u'A Cessna airplane accident in Ocampo Coahuila Mexico on July 29 2015 killed four men including a State of Coahuila government official. Horrible Accident Man Died In Wings of Airplane (29-07-2015)')\n",
    "\n",
    "GPE_list = [val.text for val in doc8.ents if val.label_==\"GPE\"]\n",
    "print(GPE_list)\n",
    "print(doc8)\n",
    "print(get_rid_of_GPE(doc8))\n",
    "'''"
   ]
  },
  {
   "cell_type": "code",
   "execution_count": 19,
   "metadata": {},
   "outputs": [
    {
     "data": {
      "text/plain": [
       "'\\ndf_train[\"GPE\"] = df_train[\"text\"].apply(create_bool_GPE)\\ndf_test[\"GPE\"] = df_test[\"text\"].apply(create_bool_GPE)\\n\\ndf_train[\"text\"] = df_train[\"text\"].apply(get_rid_of_GPE)\\ndf_test[\"text\"] = df_test[\"text\"].apply(get_rid_of_GPE)\\n\\ndf_train[\"GPE\"].value_counts()\\n'"
      ]
     },
     "execution_count": 19,
     "metadata": {},
     "output_type": "execute_result"
    }
   ],
   "source": [
    "'''\n",
    "df_train[\"GPE\"] = df_train[\"text\"].apply(create_bool_GPE)\n",
    "df_test[\"GPE\"] = df_test[\"text\"].apply(create_bool_GPE)\n",
    "\n",
    "df_train[\"text\"] = df_train[\"text\"].apply(get_rid_of_GPE)\n",
    "df_test[\"text\"] = df_test[\"text\"].apply(get_rid_of_GPE)\n",
    "\n",
    "df_train[\"GPE\"].value_counts()\n",
    "'''"
   ]
  },
  {
   "cell_type": "code",
   "execution_count": 20,
   "metadata": {},
   "outputs": [
    {
     "data": {
      "text/plain": [
       "'\\ndf_train.to_csv(\"nlp-getting-started/df_train_cleaned.csv\", index=False)\\ndf_test.to_csv(\"nlp-getting-started/df_test_cleaned.csv\", index=False)\\n'"
      ]
     },
     "execution_count": 20,
     "metadata": {},
     "output_type": "execute_result"
    }
   ],
   "source": [
    "'''\n",
    "df_train.to_csv(\"nlp-getting-started/df_train_cleaned.csv\", index=False)\n",
    "df_test.to_csv(\"nlp-getting-started/df_test_cleaned.csv\", index=False)\n",
    "'''"
   ]
  },
  {
   "cell_type": "markdown",
   "metadata": {},
   "source": [
    "## Word dictionary. Отбор признаков"
   ]
  },
  {
   "cell_type": "code",
   "execution_count": 21,
   "metadata": {},
   "outputs": [
    {
     "data": {
      "text/plain": [
       "{'ûó': 4392,\n",
       " 'ûò': 4391,\n",
       " 'ûïwhen': 4390,\n",
       " 'ûïwe': 4389,\n",
       " 'ûïthe': 4388,\n",
       " 'ûïrichmond': 4387,\n",
       " 'ûïhatchet': 4386,\n",
       " 'ûïa': 4385,\n",
       " 'ûï': 4384,\n",
       " 'ûªve': 4383,\n",
       " 'ûªt': 4382,\n",
       " 'ûªs': 4381,\n",
       " 'ûªm': 4380,\n",
       " 'ûªd': 4379,\n",
       " 'ûª': 4378,\n",
       " 'û_': 4377,\n",
       " 'åê': 4376,\n",
       " 'åè': 4375,\n",
       " 'zouma': 4374,\n",
       " 'zone': 4373,\n",
       " 'zombie': 4372,\n",
       " 'zionist': 4371,\n",
       " 'zionism': 4370,\n",
       " 'zayn': 4369,\n",
       " 'zak_bagans': 4368,\n",
       " 'z10': 4367,\n",
       " 'yycstorm': 4366,\n",
       " 'yyc': 4365,\n",
       " 'yugvani': 4364,\n",
       " 'yrs': 4363,\n",
       " 'yr': 4362,\n",
       " 'youtube': 4361,\n",
       " 'youth': 4360,\n",
       " 'yourself': 4359,\n",
       " 'yours': 4358,\n",
       " 'your': 4357,\n",
       " 'youngheroesid': 4356,\n",
       " 'young': 4355,\n",
       " 'you': 4354,\n",
       " 'yorker': 4353,\n",
       " 'york': 4352,\n",
       " 'yobe': 4351,\n",
       " 'yo': 4350,\n",
       " 'yet': 4349,\n",
       " 'yesterday': 4348,\n",
       " 'yes': 4347,\n",
       " 'yep': 4346,\n",
       " 'yellow': 4345,\n",
       " 'years': 4344,\n",
       " 'year': 4343,\n",
       " 'yeah': 4342,\n",
       " 'yea': 4341,\n",
       " 'yazidis': 4340,\n",
       " 'yay': 4339,\n",
       " 'yall': 4338,\n",
       " 'yahoonews': 4337,\n",
       " 'yahoo': 4336,\n",
       " 'ya': 4335,\n",
       " 'xxx': 4334,\n",
       " 'xp': 4333,\n",
       " 'xd': 4332,\n",
       " 'xbox': 4331,\n",
       " 'wy': 4330,\n",
       " 'wx': 4329,\n",
       " 'www': 4328,\n",
       " 'wwii': 4327,\n",
       " 'wwi': 4326,\n",
       " 'ww1': 4325,\n",
       " 'wtf': 4324,\n",
       " 'wrought': 4323,\n",
       " 'wrong': 4322,\n",
       " 'written': 4321,\n",
       " 'writing': 4320,\n",
       " 'writer': 4319,\n",
       " 'write': 4318,\n",
       " 'wrecked': 4317,\n",
       " 'wreckage': 4316,\n",
       " 'wreck': 4315,\n",
       " 'wrapup': 4314,\n",
       " 'wrap': 4313,\n",
       " 'wow': 4312,\n",
       " 'wounds': 4311,\n",
       " 'wounded': 4310,\n",
       " 'wound': 4309,\n",
       " 'wouldn': 4308,\n",
       " 'would': 4307,\n",
       " 'worth': 4306,\n",
       " 'worstsummerjob': 4305,\n",
       " 'worst': 4304,\n",
       " 'worse': 4303,\n",
       " 'worry': 4302,\n",
       " 'worried': 4301,\n",
       " 'worlds': 4300,\n",
       " 'worldnews': 4299,\n",
       " 'worldnetdaily': 4298,\n",
       " 'world': 4297,\n",
       " 'works': 4296,\n",
       " 'workplace': 4295,\n",
       " 'workout': 4294,\n",
       " 'working': 4293,\n",
       " 'workers': 4292,\n",
       " 'worked': 4291,\n",
       " 'work': 4290,\n",
       " 'words': 4289,\n",
       " 'word': 4288,\n",
       " 'wood': 4287,\n",
       " 'wont': 4286,\n",
       " 'wondering': 4285,\n",
       " 'wonderful': 4284,\n",
       " 'wonder': 4283,\n",
       " 'won': 4282,\n",
       " 'womens': 4281,\n",
       " 'women': 4280,\n",
       " 'woman': 4279,\n",
       " 'wom': 4278,\n",
       " 'woke': 4277,\n",
       " 'wo': 4276,\n",
       " 'wnd': 4275,\n",
       " 'wmata': 4274,\n",
       " 'witter': 4273,\n",
       " 'without': 4272,\n",
       " 'within': 4271,\n",
       " 'wither': 4270,\n",
       " 'with': 4269,\n",
       " 'wit': 4268,\n",
       " 'wish': 4267,\n",
       " 'wireless': 4266,\n",
       " 'wired': 4265,\n",
       " 'wire': 4264,\n",
       " 'winter': 4263,\n",
       " 'winston': 4262,\n",
       " 'wins': 4261,\n",
       " 'wings': 4260,\n",
       " 'windstorm': 4259,\n",
       " 'winds': 4258,\n",
       " 'windows': 4257,\n",
       " 'window': 4256,\n",
       " 'wind': 4255,\n",
       " 'win': 4254,\n",
       " 'willis': 4253,\n",
       " 'willing': 4252,\n",
       " 'willi': 4251,\n",
       " 'will': 4250,\n",
       " 'wildfires': 4249,\n",
       " 'wildfire': 4248,\n",
       " 'wild': 4247,\n",
       " 'wife': 4246,\n",
       " 'widespread': 4245,\n",
       " 'wide': 4244,\n",
       " 'wicked': 4243,\n",
       " 'wi': 4242,\n",
       " 'why': 4241,\n",
       " 'wht': 4240,\n",
       " 'wholesale': 4239,\n",
       " 'whole': 4238,\n",
       " 'who': 4237,\n",
       " 'white': 4236,\n",
       " 'whirlwind': 4235,\n",
       " 'whipped': 4234,\n",
       " 'while': 4233,\n",
       " 'which': 4232,\n",
       " 'whether': 4231,\n",
       " 'where': 4230,\n",
       " 'when': 4229,\n",
       " 'whats': 4228,\n",
       " 'whatever': 4227,\n",
       " 'what': 4226,\n",
       " 'whao': 4225,\n",
       " 'whales': 4224,\n",
       " 'wet': 4223,\n",
       " 'western': 4222,\n",
       " 'west': 4221,\n",
       " 'weren': 4220,\n",
       " 'were': 4219,\n",
       " 'went': 4218,\n",
       " 'well': 4217,\n",
       " 'welfare': 4216,\n",
       " 'welcome': 4215,\n",
       " 'weird': 4214,\n",
       " 'weight': 4213,\n",
       " 'weeks': 4212,\n",
       " 'weekend': 4211,\n",
       " 'week': 4210,\n",
       " 'weed': 4209,\n",
       " 'wee': 4208,\n",
       " 'wednesday': 4207,\n",
       " 'wedding': 4206,\n",
       " 'wed': 4205,\n",
       " 'website': 4204,\n",
       " 'weathernetwork': 4203,\n",
       " 'weather': 4202,\n",
       " 'wearing': 4201,\n",
       " 'wear': 4200,\n",
       " 'weapons': 4199,\n",
       " 'weapon': 4198,\n",
       " 'wealth': 4197,\n",
       " 'weak': 4196,\n",
       " 'we': 4195,\n",
       " 'ways': 4194,\n",
       " 'wayne': 4193,\n",
       " 'way': 4192,\n",
       " 'waving': 4191,\n",
       " 'waves': 4190,\n",
       " 'wave': 4189,\n",
       " 'waterways': 4188,\n",
       " 'waters': 4187,\n",
       " 'water': 4186,\n",
       " 'watching': 4185,\n",
       " 'watched': 4184,\n",
       " 'watch': 4183,\n",
       " 'waste': 4182,\n",
       " 'wasn': 4181,\n",
       " 'washingtonpost': 4180,\n",
       " 'washington': 4179,\n",
       " 'washed': 4178,\n",
       " 'wash': 4177,\n",
       " 'was': 4176,\n",
       " 'warships': 4175,\n",
       " 'warship': 4174,\n",
       " 'wars': 4173,\n",
       " 'warns': 4172,\n",
       " 'warnings': 4171,\n",
       " 'warning': 4170,\n",
       " 'warned': 4169,\n",
       " 'warne': 4168,\n",
       " 'warn': 4167,\n",
       " 'warming': 4166,\n",
       " 'warm': 4165,\n",
       " 'warfighting': 4164,\n",
       " 'warcraft': 4163,\n",
       " 'war': 4162,\n",
       " 'wants': 4161,\n",
       " 'wanting': 4160,\n",
       " 'wanted': 4159,\n",
       " 'want': 4158,\n",
       " 'wanna': 4157,\n",
       " 'walmart': 4156,\n",
       " 'walls': 4155,\n",
       " 'wall': 4154,\n",
       " 'walking': 4153,\n",
       " 'walker': 4152,\n",
       " 'walked': 4151,\n",
       " 'walk': 4150,\n",
       " 'wake': 4149,\n",
       " 'waiting': 4148,\n",
       " 'wait': 4147,\n",
       " 'waimate': 4146,\n",
       " 'wa': 4145,\n",
       " 'vulnerable': 4144,\n",
       " 'vuitton': 4143,\n",
       " 'vs': 4142,\n",
       " 'vpiro': 4141,\n",
       " 'voting': 4140,\n",
       " 'voter': 4139,\n",
       " 'votejkt48id': 4138,\n",
       " 'vote': 4137,\n",
       " 'voluntary': 4136,\n",
       " 'volga': 4135,\n",
       " 'volcano': 4134,\n",
       " 'voice': 4133,\n",
       " 'vladimir': 4132,\n",
       " 'visited': 4131,\n",
       " 'visit': 4130,\n",
       " 'vision': 4129,\n",
       " 'virus': 4128,\n",
       " 'virgin': 4127,\n",
       " 'virgil': 4126,\n",
       " 'viralspell': 4125,\n",
       " 'vip': 4124,\n",
       " 'violent': 4123,\n",
       " 'violence': 4122,\n",
       " 'vinyl': 4121,\n",
       " 'vintage': 4120,\n",
       " 'vine': 4119,\n",
       " 'villages': 4118,\n",
       " 'villagers': 4117,\n",
       " 'village': 4116,\n",
       " 'view': 4115,\n",
       " 'vietn': 4114,\n",
       " 'videos': 4113,\n",
       " 'video': 4112,\n",
       " 'vid': 4111,\n",
       " 'victory': 4110,\n",
       " 'victims': 4109,\n",
       " 'victim': 4108,\n",
       " 'via': 4107,\n",
       " 'vi': 4106,\n",
       " 'vets': 4105,\n",
       " 'veterans': 4104,\n",
       " 'veteran': 4103,\n",
       " 'vet': 4102,\n",
       " 'vest': 4101,\n",
       " 'very': 4100,\n",
       " 'version': 4099,\n",
       " 'vermont': 4098,\n",
       " 'verdict': 4097,\n",
       " 'vehicles': 4096,\n",
       " 'vehicle': 4095,\n",
       " 'vegas': 4094,\n",
       " 've': 4093,\n",
       " 'variety': 4092,\n",
       " 'vancouver': 4091,\n",
       " 'van': 4090,\n",
       " 'values': 4089,\n",
       " 'valley': 4088,\n",
       " 'val': 4087,\n",
       " 'vacation': 4086,\n",
       " 'vacant': 4085,\n",
       " 'va': 4084,\n",
       " 'utter': 4083,\n",
       " 'ut': 4082,\n",
       " 'usually': 4081,\n",
       " 'usual': 4080,\n",
       " 'usnwsgov': 4079,\n",
       " 'using': 4078,\n",
       " 'usgs': 4077,\n",
       " 'uses': 4076,\n",
       " 'users': 4075,\n",
       " 'user': 4074,\n",
       " 'used': 4073,\n",
       " 'use': 4072,\n",
       " 'usatoday': 4071,\n",
       " 'usagov': 4070,\n",
       " 'usa': 4069,\n",
       " 'us': 4068,\n",
       " 'uribe': 4067,\n",
       " 'urgent': 4066,\n",
       " 'ur': 4065,\n",
       " 'upset': 4064,\n",
       " 'upper': 4063,\n",
       " 'upon': 4062,\n",
       " 'upheaval': 4061,\n",
       " 'updates': 4060,\n",
       " 'updated': 4059,\n",
       " 'update': 4058,\n",
       " 'up': 4057,\n",
       " 'unveiled': 4056,\n",
       " 'until': 4055,\n",
       " 'unsuckdcmetro': 4054,\n",
       " 'unsafe': 4053,\n",
       " 'unlocking': 4052,\n",
       " 'unlocked': 4051,\n",
       " 'unless': 4050,\n",
       " 'unknown': 4049,\n",
       " 'university': 4048,\n",
       " 'universe': 4047,\n",
       " 'units': 4046,\n",
       " 'united': 4045,\n",
       " 'unit': 4044,\n",
       " 'union': 4043,\n",
       " 'uniform': 4042,\n",
       " 'unhappiness': 4041,\n",
       " 'underway': 4040,\n",
       " 'understanding': 4039,\n",
       " 'understand': 4038,\n",
       " 'undercover': 4037,\n",
       " 'under': 4036,\n",
       " 'unconfirmed': 4035,\n",
       " 'unawares': 4034,\n",
       " 'unavoidable': 4033,\n",
       " 'un': 4032,\n",
       " 'ultimate': 4031,\n",
       " 'ultimalucha': 4030,\n",
       " 'ukraine': 4029,\n",
       " 'uk': 4028,\n",
       " 'ugly': 4027,\n",
       " 'ugh': 4026,\n",
       " 'udhpur': 4025,\n",
       " 'uber': 4024,\n",
       " 'tyre': 4023,\n",
       " 'typhoon': 4022,\n",
       " 'type': 4021,\n",
       " 'ty': 4020,\n",
       " 'two': 4019,\n",
       " 'twitter': 4018,\n",
       " 'twister': 4017,\n",
       " 'twins': 4016,\n",
       " 'twin': 4015,\n",
       " 'twice': 4014,\n",
       " 'twia': 4013,\n",
       " 'twelve': 4012,\n",
       " 'tweets': 4011,\n",
       " 'tweet': 4010,\n",
       " 'tv': 4009,\n",
       " 'tutorial': 4008,\n",
       " 'turns': 4007,\n",
       " 'turning': 4006,\n",
       " 'turned': 4005,\n",
       " 'turn': 4004,\n",
       " 'turkish': 4003,\n",
       " 'turkey': 4002,\n",
       " 'turbine': 4001,\n",
       " 'tuned': 4000,\n",
       " 'tune': 3999,\n",
       " 'tuesday': 3998,\n",
       " 'tubestrike': 3997,\n",
       " 'tube': 3996,\n",
       " 'tsuni': 3995,\n",
       " 'ts': 3994,\n",
       " 'tryna': 3993,\n",
       " 'trying': 3992,\n",
       " 'try': 3991,\n",
       " 'truth': 3990,\n",
       " 'trust': 3989,\n",
       " 'trump': 3988,\n",
       " 'truly': 3987,\n",
       " 'true': 3986,\n",
       " 'trucks': 3985,\n",
       " 'truck': 3984,\n",
       " 'trubgme': 3983,\n",
       " 'trs': 3982,\n",
       " 'trouble': 3981,\n",
       " 'tropical': 3980,\n",
       " 'troops': 3979,\n",
       " 'trolley': 3978,\n",
       " 'triple': 3977,\n",
       " 'trip': 3976,\n",
       " 'triggered': 3975,\n",
       " 'tries': 3974,\n",
       " 'tried': 3973,\n",
       " 'tribune': 3972,\n",
       " 'tribal': 3971,\n",
       " 'trials': 3970,\n",
       " 'trial': 3969,\n",
       " 'trfc': 3968,\n",
       " 'trent': 3967,\n",
       " 'trend': 3966,\n",
       " 'trench': 3965,\n",
       " 'trees': 3964,\n",
       " 'tree': 3963,\n",
       " 'treatment': 3962,\n",
       " 'treat': 3961,\n",
       " 'travel': 3960,\n",
       " 'traumatised': 3959,\n",
       " 'trauma': 3958,\n",
       " 'trapped': 3957,\n",
       " 'trapmusic': 3956,\n",
       " 'trap': 3955,\n",
       " 'transport': 3954,\n",
       " 'transit': 3953,\n",
       " 'transformation': 3952,\n",
       " 'transfer': 3951,\n",
       " 'trains': 3950,\n",
       " 'training': 3949,\n",
       " 'train': 3948,\n",
       " 'trailer': 3947,\n",
       " 'tragedy': 3946,\n",
       " 'trafford': 3945,\n",
       " 'traffic': 3944,\n",
       " 'traditional': 3943,\n",
       " 'tracks': 3942,\n",
       " 'tracking': 3941,\n",
       " 'track': 3940,\n",
       " 'tr': 3939,\n",
       " 'tpa': 3938,\n",
       " 'toxic': 3937,\n",
       " 'township': 3936,\n",
       " 'town': 3935,\n",
       " 'towel': 3934,\n",
       " 'towards': 3933,\n",
       " 'toward': 3932,\n",
       " 'tour': 3931,\n",
       " 'tough': 3930,\n",
       " 'touch': 3929,\n",
       " 'tote': 3928,\n",
       " 'totally': 3927,\n",
       " 'totaling': 3926,\n",
       " 'total': 3925,\n",
       " 'torso': 3924,\n",
       " 'toronto': 3923,\n",
       " 'tornadoes': 3922,\n",
       " 'tornado': 3921,\n",
       " 'torch': 3920,\n",
       " 'top': 3919,\n",
       " 'tooth': 3918,\n",
       " 'tools': 3917,\n",
       " 'tool': 3916,\n",
       " 'took': 3915,\n",
       " 'too': 3914,\n",
       " 'tonto': 3913,\n",
       " 'tons': 3912,\n",
       " 'tonight': 3911,\n",
       " 'tongue': 3910,\n",
       " 'tomorrow': 3909,\n",
       " 'tom': 3908,\n",
       " 'toll': 3907,\n",
       " 'told': 3906,\n",
       " 'toilet': 3905,\n",
       " 'together': 3904,\n",
       " 'toe': 3903,\n",
       " 'toddler': 3902,\n",
       " 'todd': 3901,\n",
       " 'today': 3900,\n",
       " 'to': 3899,\n",
       " 'tmp': 3898,\n",
       " 'title': 3897,\n",
       " 'titan': 3896,\n",
       " 'tired': 3895,\n",
       " 'tips': 3894,\n",
       " 'tinyjecht': 3893,\n",
       " 'times': 3892,\n",
       " 'timeline': 3891,\n",
       " 'time2015': 3890,\n",
       " 'time': 3889,\n",
       " 'till': 3888,\n",
       " 'til_now': 3887,\n",
       " 'til': 3886,\n",
       " 'tied': 3885,\n",
       " 'tide': 3884,\n",
       " 'tidal': 3883,\n",
       " 'tickets': 3882,\n",
       " 'ticket': 3881,\n",
       " 'thx': 3880,\n",
       " 'thus': 3879,\n",
       " 'thursday': 3878,\n",
       " 'thunderstorms': 3877,\n",
       " 'thunderstorm': 3876,\n",
       " 'thunder': 3875,\n",
       " 'thru': 3874,\n",
       " 'throwingknifes': 3873,\n",
       " 'throwing': 3872,\n",
       " 'throw': 3871,\n",
       " 'through': 3870,\n",
       " 'thriller': 3869,\n",
       " 'threw': 3868,\n",
       " 'three': 3867,\n",
       " 'threats': 3866,\n",
       " 'threatens': 3865,\n",
       " 'threatening': 3864,\n",
       " 'threat': 3863,\n",
       " 'thousands': 3862,\n",
       " 'thousand': 3861,\n",
       " 'thoughts': 3860,\n",
       " 'thought': 3859,\n",
       " 'though': 3858,\n",
       " 'those': 3857,\n",
       " 'thomas': 3856,\n",
       " 'tho': 3855,\n",
       " 'this': 3854,\n",
       " 'third': 3853,\n",
       " 'thinks': 3852,\n",
       " 'thinking': 3851,\n",
       " 'think': 3850,\n",
       " 'things': 3849,\n",
       " 'thing': 3848,\n",
       " 'thin': 3847,\n",
       " 'thick': 3846,\n",
       " 'they': 3845,\n",
       " 'these': 3844,\n",
       " 'theres': 3843,\n",
       " 'there': 3842,\n",
       " 'therapy': 3841,\n",
       " 'theory': 3840,\n",
       " 'then': 3839,\n",
       " 'themselves': 3838,\n",
       " 'them': 3837,\n",
       " 'their': 3836,\n",
       " 'theatre': 3835,\n",
       " 'theater': 3834,\n",
       " 'the': 3833,\n",
       " 'thats': 3832,\n",
       " 'that': 3831,\n",
       " 'thanku': 3830,\n",
       " 'thanks': 3829,\n",
       " 'thank': 3828,\n",
       " 'than': 3827,\n",
       " 'th': 3826,\n",
       " 'tf': 3825,\n",
       " 'text': 3824,\n",
       " 'texas': 3823,\n",
       " 'tests': 3822,\n",
       " 'tested': 3821,\n",
       " 'test': 3820,\n",
       " 'tes': 3819,\n",
       " 'terrorists': 3818,\n",
       " 'terrorist': 3817,\n",
       " 'terrorism': 3816,\n",
       " 'terror': 3815,\n",
       " 'terrifying': 3814,\n",
       " 'terrible': 3813,\n",
       " 'terms': 3812,\n",
       " 'term': 3811,\n",
       " 'tent': 3810,\n",
       " 'tension': 3809,\n",
       " 'tennessee': 3808,\n",
       " 'ten': 3807,\n",
       " 'temporary': 3806,\n",
       " 'temple': 3805,\n",
       " 'tempered': 3804,\n",
       " 'temper': 3803,\n",
       " 'tells': 3802,\n",
       " 'telling': 3801,\n",
       " 'tell': 3800,\n",
       " 'telegraph': 3799,\n",
       " 'teen': 3798,\n",
       " 'ted': 3797,\n",
       " 'technology': 3796,\n",
       " 'tech': 3795,\n",
       " 'tears': 3794,\n",
       " 'teaching': 3793,\n",
       " 'teachers': 3792,\n",
       " 'teacher': 3791,\n",
       " 'tea': 3790,\n",
       " 'te': 3789,\n",
       " 'tdp': 3788,\n",
       " 'tcot': 3787,\n",
       " 'tbt': 3786,\n",
       " 'tb': 3785,\n",
       " 'taylor': 3784,\n",
       " 'taxiways': 3783,\n",
       " 'tax': 3782,\n",
       " 'tastes': 3781,\n",
       " 'taste': 3780,\n",
       " 'targets': 3779,\n",
       " 'targeting': 3778,\n",
       " 'target': 3777,\n",
       " 'tape': 3776,\n",
       " 'tank': 3775,\n",
       " 'talks': 3774,\n",
       " 'talking': 3773,\n",
       " 'talk': 3772,\n",
       " 'talent': 3771,\n",
       " 'taking': 3770,\n",
       " 'takes': 3769,\n",
       " 'taken': 3768,\n",
       " 'take': 3767,\n",
       " 'taiwan': 3766,\n",
       " 'tahoe': 3765,\n",
       " 'tag': 3764,\n",
       " 'taco': 3763,\n",
       " 'tablet': 3762,\n",
       " 'table': 3761,\n",
       " 'tab': 3760,\n",
       " 'systems': 3759,\n",
       " 'system': 3758,\n",
       " 'syrian': 3757,\n",
       " 'syria': 3756,\n",
       " 'symphony': 3755,\n",
       " 'sympathy': 3754,\n",
       " 'sydney': 3753,\n",
       " 'sws': 3752,\n",
       " 'swiss': 3751,\n",
       " 'swing': 3750,\n",
       " 'swimming': 3749,\n",
       " 'swim': 3748,\n",
       " 'swells': 3747,\n",
       " 'sweet': 3746,\n",
       " 'sweden': 3745,\n",
       " 'sweat': 3744,\n",
       " 'swear': 3743,\n",
       " 'swarm': 3742,\n",
       " 'swansea': 3741,\n",
       " 'swallows': 3740,\n",
       " 'swallowed': 3739,\n",
       " 'sw': 3738,\n",
       " 'suv': 3737,\n",
       " 'suspected': 3736,\n",
       " 'suspect': 3735,\n",
       " 'survivors': 3734,\n",
       " 'survivor': 3733,\n",
       " 'survived': 3732,\n",
       " 'survive': 3731,\n",
       " 'survival': 3730,\n",
       " 'surrounded': 3729,\n",
       " 'surprised': 3728,\n",
       " 'surprise': 3727,\n",
       " 'surge': 3726,\n",
       " 'surface': 3725,\n",
       " 'surf': 3724,\n",
       " 'surely': 3723,\n",
       " 'sure': 3722,\n",
       " 'surah': 3721,\n",
       " 'supreme': 3720,\n",
       " 'supposed': 3719,\n",
       " 'suppose': 3718,\n",
       " 'supports': 3717,\n",
       " 'support': 3716,\n",
       " 'supervisor': 3715,\n",
       " 'supernatural': 3714,\n",
       " 'superhero': 3713,\n",
       " 'super': 3712,\n",
       " 'sunset': 3711,\n",
       " 'sunk': 3710,\n",
       " 'sunday': 3709,\n",
       " 'sun': 3708,\n",
       " 'summerfate': 3707,\n",
       " 'summer': 3706,\n",
       " 'suicide': 3705,\n",
       " 'suffering': 3704,\n",
       " 'suffered': 3703,\n",
       " 'suffer': 3702,\n",
       " 'sue': 3701,\n",
       " 'suddenly': 3700,\n",
       " 'sucks': 3699,\n",
       " 'such': 3698,\n",
       " 'success': 3697,\n",
       " 'subs': 3696,\n",
       " 'subreddits': 3695,\n",
       " 'subject': 3694,\n",
       " 'sub': 3693,\n",
       " 'stylish': 3692,\n",
       " 'style': 3691,\n",
       " 'stupid': 3690,\n",
       " 'stuff': 3689,\n",
       " 'study': 3688,\n",
       " 'students': 3687,\n",
       " 'student': 3686,\n",
       " 'stuck': 3685,\n",
       " 'stuart': 3684,\n",
       " 'struggles': 3683,\n",
       " 'structures': 3682,\n",
       " 'structure': 3681,\n",
       " 'structural': 3680,\n",
       " 'struck': 3679,\n",
       " 'strong': 3678,\n",
       " 'strikes': 3677,\n",
       " 'strike': 3676,\n",
       " 'stretcher': 3675,\n",
       " 'stressful': 3674,\n",
       " 'stressed': 3673,\n",
       " 'stress': 3672,\n",
       " 'streing': 3671,\n",
       " 'streets': 3670,\n",
       " 'street': 3669,\n",
       " 'streak': 3668,\n",
       " 'stre': 3667,\n",
       " 'strategy': 3666,\n",
       " 'strategicpatience': 3665,\n",
       " 'strange': 3664,\n",
       " 'stranded': 3663,\n",
       " 'straight': 3662,\n",
       " 'story': 3661,\n",
       " 'storms': 3660,\n",
       " 'storm': 3659,\n",
       " 'stories': 3658,\n",
       " 'store': 3657,\n",
       " 'stops': 3656,\n",
       " 'stopped': 3655,\n",
       " 'stop': 3654,\n",
       " 'stone': 3653,\n",
       " 'stomach': 3652,\n",
       " 'stolen': 3651,\n",
       " 'stock': 3650,\n",
       " 'stir': 3649,\n",
       " 'still': 3648,\n",
       " 'stick': 3647,\n",
       " 'stewart': 3646,\n",
       " 'steve': 3645,\n",
       " 'stereo': 3644,\n",
       " 'steps': 3643,\n",
       " 'stepped': 3642,\n",
       " 'stephen': 3641,\n",
       " 'step': 3640,\n",
       " 'steel': 3639,\n",
       " 'stealing': 3638,\n",
       " 'ste': 3637,\n",
       " 'stays': 3636,\n",
       " 'stay': 3635,\n",
       " 'status': 3634,\n",
       " 'stats': 3633,\n",
       " 'station': 3632,\n",
       " 'states': 3631,\n",
       " 'statement': 3630,\n",
       " 'state': 3629,\n",
       " 'startup': 3628,\n",
       " 'starts': 3627,\n",
       " 'starting': 3626,\n",
       " 'starter': 3625,\n",
       " 'started': 3624,\n",
       " 'start': 3623,\n",
       " 'stars': 3622,\n",
       " 'starring': 3621,\n",
       " 'star': 3620,\n",
       " 'stands': 3619,\n",
       " 'standing': 3618,\n",
       " 'standard': 3617,\n",
       " 'stand': 3616,\n",
       " 'stage': 3615,\n",
       " 'staff': 3614,\n",
       " 'stadium': 3613,\n",
       " 'stacey': 3612,\n",
       " 'stabbing': 3611,\n",
       " 'stab': 3610,\n",
       " 'st': 3609,\n",
       " 'square': 3608,\n",
       " 'squad': 3607,\n",
       " 'sprinter': 3606,\n",
       " 'springs': 3605,\n",
       " 'spring': 3604,\n",
       " 'spot': 3603,\n",
       " 'spos': 3602,\n",
       " 'sports': 3601,\n",
       " 'sport': 3600,\n",
       " 'split': 3599,\n",
       " 'spirits': 3598,\n",
       " 'spirit': 3597,\n",
       " 'spinningbot': 3596,\n",
       " 'spinning': 3595,\n",
       " 'spill': 3594,\n",
       " 'spider': 3593,\n",
       " 'spent': 3592,\n",
       " 'spending': 3591,\n",
       " 'spend': 3590,\n",
       " 'speed': 3589,\n",
       " 'specimens': 3588,\n",
       " 'specific': 3587,\n",
       " 'specif': 3586,\n",
       " 'specially': 3585,\n",
       " 'special': 3584,\n",
       " 'spears': 3583,\n",
       " 'speaking': 3582,\n",
       " 'speaker': 3581,\n",
       " 'speak': 3580,\n",
       " 'sparks': 3579,\n",
       " 'sparked': 3578,\n",
       " 'spanish': 3577,\n",
       " 'spain': 3576,\n",
       " 'spaceship': 3575,\n",
       " 'space': 3574,\n",
       " 'sp': 3573,\n",
       " 'soviet': 3572,\n",
       " 'southpton': 3571,\n",
       " 'southern': 3570,\n",
       " 'southeast': 3569,\n",
       " 'southbound': 3568,\n",
       " 'south': 3567,\n",
       " 'sources': 3566,\n",
       " 'source': 3565,\n",
       " 'sounds': 3564,\n",
       " 'soundcloud': 3563,\n",
       " 'sound': 3562,\n",
       " 'souls': 3561,\n",
       " 'soul': 3560,\n",
       " 'soudelor': 3559,\n",
       " 'sort': 3558,\n",
       " 'sorry': 3557,\n",
       " 'sophie': 3556,\n",
       " 'soon': 3555,\n",
       " 'songs': 3554,\n",
       " 'song': 3553,\n",
       " 'son': 3552,\n",
       " 'sometimes': 3551,\n",
       " 'something': 3550,\n",
       " 'someone': 3549,\n",
       " 'somehow': 3548,\n",
       " 'somebody': 3547,\n",
       " 'some': 3546,\n",
       " 'somalia': 3545,\n",
       " 'solve': 3544,\n",
       " 'solution': 3543,\n",
       " 'solid': 3542,\n",
       " 'soldiers': 3541,\n",
       " 'soldier': 3540,\n",
       " 'solar': 3539,\n",
       " 'society': 3538,\n",
       " 'socialnews': 3537,\n",
       " 'socialism': 3536,\n",
       " 'social': 3535,\n",
       " 'soccer': 3534,\n",
       " 'soak': 3533,\n",
       " 'so': 3532,\n",
       " 'snowstorm': 3531,\n",
       " 'snow': 3530,\n",
       " 'snapchat': 3529,\n",
       " 'snap': 3528,\n",
       " 'sms': 3527,\n",
       " 'smoky': 3526,\n",
       " 'smoking': 3525,\n",
       " 'smoke': 3524,\n",
       " 'smithsonian': 3523,\n",
       " 'smile': 3522,\n",
       " 'smh': 3521,\n",
       " 'smell': 3520,\n",
       " 'smaug': 3519,\n",
       " 'smash': 3518,\n",
       " 'small': 3517,\n",
       " 'sm': 3516,\n",
       " 'slowly': 3515,\n",
       " 'slower': 3514,\n",
       " 'slow': 3513,\n",
       " 'slips': 3512,\n",
       " 'slip': 3511,\n",
       " 'slightly': 3510,\n",
       " 'slide': 3509,\n",
       " 'sleeping': 3508,\n",
       " 'sleep': 3507,\n",
       " 'slayer': 3506,\n",
       " 'slate': 3505,\n",
       " 'slanglucci': 3504,\n",
       " 'sky': 3503,\n",
       " 'skirt': 3502,\n",
       " 'skinny': 3501,\n",
       " 'skin': 3500,\n",
       " 'skills': 3499,\n",
       " 'skies': 3498,\n",
       " 'sized': 3497,\n",
       " 'size': 3496,\n",
       " 'sixth': 3495,\n",
       " 'six': 3494,\n",
       " 'situation': 3493,\n",
       " 'sittwe': 3492,\n",
       " 'sitting': 3491,\n",
       " 'sites': 3490,\n",
       " 'site': 3489,\n",
       " 'sit': 3488,\n",
       " 'sisters': 3487,\n",
       " 'sister': 3486,\n",
       " 'sismo': 3485,\n",
       " 'sirens': 3484,\n",
       " 'siren': 3483,\n",
       " 'sir': 3482,\n",
       " 'sinking': 3481,\n",
       " 'sinkhole': 3480,\n",
       " 'sink': 3479,\n",
       " 'sinjar': 3478,\n",
       " 'single': 3477,\n",
       " 'singing': 3476,\n",
       " 'sing': 3475,\n",
       " 'since': 3474,\n",
       " 'sin': 3473,\n",
       " 'simulate': 3472,\n",
       " 'simple': 3471,\n",
       " 'silver': 3470,\n",
       " 'silent': 3469,\n",
       " 'silence': 3468,\n",
       " 'signs': 3467,\n",
       " 'significant': 3466,\n",
       " 'signed': 3465,\n",
       " 'sign': 3464,\n",
       " 'sight': 3463,\n",
       " 'sigalert': 3462,\n",
       " 'sidelines': 3461,\n",
       " 'side': 3460,\n",
       " 'sick': 3459,\n",
       " 'sicily': 3458,\n",
       " 'si': 3457,\n",
       " 'shut': 3456,\n",
       " 'shows': 3455,\n",
       " 'shower': 3454,\n",
       " 'showed': 3453,\n",
       " 'showcase': 3452,\n",
       " 'show': 3451,\n",
       " 'shouldn': 3450,\n",
       " 'shoulders': 3449,\n",
       " 'shoulder': 3448,\n",
       " 'should': 3447,\n",
       " 'shots': 3446,\n",
       " 'shot': 3445,\n",
       " 'short': 3444,\n",
       " 'shop': 3443,\n",
       " 'shooting': 3442,\n",
       " 'shoot': 3441,\n",
       " 'shook': 3440,\n",
       " 'shoes': 3439,\n",
       " 'shocked': 3438,\n",
       " 'shock': 3437,\n",
       " 'shitty': 3436,\n",
       " 'shit': 3435,\n",
       " 'shirt': 3434,\n",
       " 'shipwreck': 3433,\n",
       " 'ships': 3432,\n",
       " 'shipping': 3431,\n",
       " 'ship': 3430,\n",
       " 'shift': 3429,\n",
       " 'sheriff': 3428,\n",
       " 'shepherd': 3427,\n",
       " 'shelter': 3426,\n",
       " 'shell': 3425,\n",
       " 'shelby': 3424,\n",
       " 'she': 3423,\n",
       " 'sharp': 3422,\n",
       " 'shark': 3421,\n",
       " 'sharethis': 3420,\n",
       " 'shares': 3419,\n",
       " 'shared': 3418,\n",
       " 'share': 3417,\n",
       " 'shape': 3416,\n",
       " 'shanghai': 3415,\n",
       " 'shall': 3414,\n",
       " 'shaking': 3413,\n",
       " 'shadow': 3412,\n",
       " 'sh': 3411,\n",
       " 'sf': 3410,\n",
       " 'sexy': 3409,\n",
       " 'sexual': 3408,\n",
       " 'sex': 3407,\n",
       " 'severe': 3406,\n",
       " 'several': 3405,\n",
       " 'seven': 3404,\n",
       " 'settlement': 3403,\n",
       " 'setting': 3402,\n",
       " 'sets': 3401,\n",
       " 'set': 3400,\n",
       " 'services': 3399,\n",
       " 'service': 3398,\n",
       " 'servers': 3397,\n",
       " 'served': 3396,\n",
       " 'seriously': 3395,\n",
       " 'serious': 3394,\n",
       " 'series': 3393,\n",
       " ...}"
      ]
     },
     "execution_count": 21,
     "metadata": {},
     "output_type": "execute_result"
    }
   ],
   "source": [
    "from sklearn.feature_extraction.text import TfidfVectorizer\n",
    "\n",
    "vectorizer = TfidfVectorizer(min_df = 3, max_df = 5000)\n",
    "\n",
    "X_train_counts = vectorizer.fit(df_train[\"text\"].values)\n",
    "word_freq = X_train_counts.vocabulary_\n",
    "word_freq = dict(sorted(word_freq.items(), key=lambda x: x[1], reverse=True))\n",
    "word_freq"
   ]
  },
  {
   "cell_type": "markdown",
   "metadata": {},
   "source": [
    "word dictionary дал идею о:  \n",
    "- удалении ссылок\n",
    "- cоздании binary features: время (чуть улучшило), дата, город/страна (чуть ухудшило logistic regression)"
   ]
  },
  {
   "cell_type": "markdown",
   "metadata": {},
   "source": [
    "### Metrics Estimation"
   ]
  },
  {
   "cell_type": "code",
   "execution_count": 22,
   "metadata": {},
   "outputs": [],
   "source": [
    "from sklearn import metrics\n",
    "\n",
    "def metric_score(model): \n",
    "\n",
    "    # Form a prediction set\n",
    "    predictions = model.predict(X_test)\n",
    "    print(metrics.confusion_matrix(y_test,predictions))\n",
    "    \n",
    "    # Print a classification report\n",
    "    print(metrics.classification_report(y_test,predictions))\n",
    "    \n",
    "    # Print the overall accuracy\n",
    "    print(metrics.accuracy_score(y_test,predictions))"
   ]
  },
  {
   "cell_type": "markdown",
   "metadata": {},
   "source": [
    "## Split the data into train & test sets:"
   ]
  },
  {
   "cell_type": "code",
   "execution_count": 23,
   "metadata": {},
   "outputs": [
    {
     "name": "stdout",
     "output_type": "stream",
     "text": [
      "(5100,) (2513,)\n"
     ]
    }
   ],
   "source": [
    "from sklearn.model_selection import train_test_split\n",
    "\n",
    "X = df_train[['text','time']]#,'GPE']]  # this time we want to look at the text\n",
    "\n",
    "#X = df_train['text']\n",
    "y = df_train['target']\n",
    "\n",
    "X_train, X_test, y_train, y_test = train_test_split(X, y, test_size=0.33, random_state=42)\n",
    "print(y_train.shape, y_test.shape)"
   ]
  },
  {
   "cell_type": "markdown",
   "metadata": {},
   "source": [
    "### Temp"
   ]
  },
  {
   "cell_type": "code",
   "execution_count": 24,
   "metadata": {},
   "outputs": [],
   "source": [
    "stopwords = ['.','?','@','+',',','<','>','%','~','!','^','&','(',')',':',';']"
   ]
  },
  {
   "cell_type": "code",
   "execution_count": 25,
   "metadata": {},
   "outputs": [
    {
     "data": {
      "text/plain": [
       "(5100, 2)"
      ]
     },
     "execution_count": 25,
     "metadata": {},
     "output_type": "execute_result"
    }
   ],
   "source": [
    "from sklearn.feature_extraction.text import TfidfVectorizer\n",
    "vectorizer = TfidfVectorizer(min_df=2, max_df=0.6, stop_words=stopwords)\n",
    "\n",
    "X_train_ = vectorizer.fit_transform(X_train.text) # remember to use the original X_train set\n",
    "X_test_ = vectorizer.transform(X_test.text)\n",
    "\n",
    "#y_train = y_train.reshape(-1, 1)\n",
    "#y_test = y_test.reshape(-1, 1)\n",
    "\n",
    "X_train.shape# return sparse matrix"
   ]
  },
  {
   "cell_type": "code",
   "execution_count": 26,
   "metadata": {},
   "outputs": [
    {
     "data": {
      "text/plain": [
       "(5100, 4953)"
      ]
     },
     "execution_count": 26,
     "metadata": {},
     "output_type": "execute_result"
    }
   ],
   "source": [
    "X_train_.shape"
   ]
  },
  {
   "cell_type": "code",
   "execution_count": 27,
   "metadata": {},
   "outputs": [],
   "source": [
    "from scipy.sparse import hstack\n",
    "'''\n",
    "X_train_ = hstack((X_train_, np.array([X_train.time.values]).T))\n",
    "X_test_ = hstack((X_test_, np.array([X_test.time.values]).T))\n",
    "\n",
    "X_train = hstack((X_train_, np.array([X_train.GPE.values]).T))\n",
    "X_test = hstack((X_test_, np.array([X_test.GPE.values]).T))\n",
    "'''\n",
    "\n",
    "X_train = hstack((X_train_, np.array([X_train.time.values]).T))\n",
    "X_test = hstack((X_test_, np.array([X_test.time.values]).T))"
   ]
  },
  {
   "cell_type": "code",
   "execution_count": 66,
   "metadata": {},
   "outputs": [
    {
     "name": "stdout",
     "output_type": "stream",
     "text": [
      "--------------\n",
      "<class 'lightgbm.sklearn.LGBMClassifier'>\n"
     ]
    },
    {
     "name": "stderr",
     "output_type": "stream",
     "text": [
      "/home/user/anaconda3/lib/python3.8/site-packages/lightgbm/basic.py:497: UserWarning: Converting data to scipy sparse matrix.\n",
      "  warnings.warn('Converting data to scipy sparse matrix.')\n"
     ]
    },
    {
     "name": "stdout",
     "output_type": "stream",
     "text": [
      "[[1265  181]\n",
      " [ 377  690]]\n",
      "              precision    recall  f1-score   support\n",
      "\n",
      "           0       0.77      0.87      0.82      1446\n",
      "           1       0.79      0.65      0.71      1067\n",
      "\n",
      "    accuracy                           0.78      2513\n",
      "   macro avg       0.78      0.76      0.77      2513\n",
      "weighted avg       0.78      0.78      0.77      2513\n",
      "\n",
      "0.7779546358933546\n",
      "--------------\n",
      "<class 'sklearn.ensemble._forest.RandomForestClassifier'>\n",
      "[[1300  146]\n",
      " [ 410  657]]\n",
      "              precision    recall  f1-score   support\n",
      "\n",
      "           0       0.76      0.90      0.82      1446\n",
      "           1       0.82      0.62      0.70      1067\n",
      "\n",
      "    accuracy                           0.78      2513\n",
      "   macro avg       0.79      0.76      0.76      2513\n",
      "weighted avg       0.78      0.78      0.77      2513\n",
      "\n",
      "0.77875049741345\n",
      "--------------\n",
      "<class 'sklearn.svm._classes.SVC'>\n",
      "[[1280  166]\n",
      " [ 308  759]]\n",
      "              precision    recall  f1-score   support\n",
      "\n",
      "           0       0.81      0.89      0.84      1446\n",
      "           1       0.82      0.71      0.76      1067\n",
      "\n",
      "    accuracy                           0.81      2513\n",
      "   macro avg       0.81      0.80      0.80      2513\n",
      "weighted avg       0.81      0.81      0.81      2513\n",
      "\n",
      "0.8113808197373656\n",
      "--------------\n",
      "<class 'sklearn.linear_model._logistic.LogisticRegression'>\n",
      "[[1303  143]\n",
      " [ 328  739]]\n",
      "              precision    recall  f1-score   support\n",
      "\n",
      "           0       0.80      0.90      0.85      1446\n",
      "           1       0.84      0.69      0.76      1067\n",
      "\n",
      "    accuracy                           0.81      2513\n",
      "   macro avg       0.82      0.80      0.80      2513\n",
      "weighted avg       0.82      0.81      0.81      2513\n",
      "\n",
      "0.8125746120175089\n"
     ]
    }
   ],
   "source": [
    "from sklearn.discriminant_analysis import LinearDiscriminantAnalysis  \n",
    "from sklearn.neighbors import KNeighborsClassifier  \n",
    "from sklearn.naive_bayes import MultinomialNB\n",
    "from sklearn.tree import DecisionTreeClassifier  \n",
    "from sklearn.svm import SVC \n",
    "from sklearn.linear_model import LogisticRegression\n",
    "from sklearn.ensemble import RandomForestClassifier\n",
    "from lightgbm import LGBMClassifier\n",
    "\n",
    "#clf_lr = LogisticRegression()\n",
    "#clf_lr.fit(X_train,y_train)\n",
    "#metric_score(clf_lr)\n",
    "\n",
    "\n",
    "model_list = [\n",
    "             KNeighborsClassifier(n_neighbors=10),\n",
    "             MultinomialNB(),\n",
    "             DecisionTreeClassifier(),\n",
    "    LGBMClassifier(),\n",
    "    RandomForestClassifier(),\n",
    "             SVC(kernel=\"linear\"),\n",
    "             LogisticRegression()]\n",
    "\n",
    "\n",
    "for model in model_list[3:]:\n",
    "    print(f\"--------------\\n{type(model)}\")\n",
    "    model.fit(X_train,y_train)\n",
    "    metric_score(model)"
   ]
  },
  {
   "cell_type": "code",
   "execution_count": null,
   "metadata": {},
   "outputs": [],
   "source": []
  },
  {
   "cell_type": "markdown",
   "metadata": {},
   "source": [
    "### Let's try to choose custom threshold"
   ]
  },
  {
   "cell_type": "code",
   "execution_count": null,
   "metadata": {},
   "outputs": [],
   "source": [
    "predictions = clf_lr.predict(X_test)\n",
    "print(predictions[:5])\n",
    "#predict_proba()\n",
    "\n",
    "predictions = clf_lr.predict_proba(X_test)\n",
    "print(predictions[:5])"
   ]
  },
  {
   "cell_type": "code",
   "execution_count": null,
   "metadata": {},
   "outputs": [],
   "source": [
    "import sklearn.metrics as metrics\n",
    "# calculate the fpr and tpr for all thresholds of the classification\n",
    "probs = clf_lr.predict_proba(X_test)\n",
    "preds = probs[:,1]\n",
    "fpr, tpr, threshold = metrics.roc_curve(y_test, preds)\n",
    "roc_auc = metrics.auc(fpr, tpr)\n",
    "\n",
    "# method I: plt\n",
    "import matplotlib.pyplot as plt\n",
    "plt.title('Receiver Operating Characteristic')\n",
    "plt.plot(fpr, tpr, 'b', label = 'AUC = %0.2f' % roc_auc)\n",
    "plt.legend(loc = 'lower right')\n",
    "plt.plot([0, 1], [0, 1],'r--')\n",
    "plt.xlim([0, 1])\n",
    "plt.ylim([0, 1])\n",
    "plt.ylabel('True Positive Rate')\n",
    "plt.xlabel('False Positive Rate')\n",
    "plt.show()"
   ]
  },
  {
   "cell_type": "code",
   "execution_count": 69,
   "metadata": {},
   "outputs": [],
   "source": [
    "from sklearn.metrics import confusion_matrix\n",
    "def calculate_metrics(x_test, y_test):\n",
    "    threshold_list = list()\n",
    "    sensitivity_list = list()\n",
    "    specificity_list = list()\n",
    "    accuracy_list = list()\n",
    "\n",
    "    probs = clf_lr.predict_proba(x_test)\n",
    "    preds = probs[:,1]\n",
    "    \n",
    "    for threshold in np.arange(0.1,1,0.025):\n",
    "        threshold = round(threshold,2)\n",
    "\n",
    "        test_df = pd.DataFrame(y_test)\n",
    "        test_df[\"predicted\"] = preds\n",
    "\n",
    "        test_df[\"predicted\"] = test_df[\"predicted\"].apply(lambda x: 1 if x >threshold else 0)\n",
    "        CM = confusion_matrix(test_df.target, test_df.predicted)\n",
    "\n",
    "        TN = CM[0][0]\n",
    "        FN = CM[1][0]\n",
    "        TP = CM[1][1]\n",
    "        FP = CM[0][1]\n",
    "\n",
    "        sensitivity = TP/(TP+FN)\n",
    "        specificity = TN/(TN+FP)\n",
    "        accuracy = (TP+TN)/(TP+FP+TN+FN)\n",
    "\n",
    "        threshold_list.append(threshold)\n",
    "        sensitivity_list.append(sensitivity)\n",
    "        specificity_list.append(specificity)\n",
    "        accuracy_list.append(accuracy)\n",
    "    return([threshold_list,sensitivity_list, specificity_list, accuracy_list])"
   ]
  },
  {
   "cell_type": "code",
   "execution_count": 70,
   "metadata": {},
   "outputs": [],
   "source": [
    "import matplotlib.pyplot as plt\n",
    "import numpy as np\n",
    "\n",
    "def plot_curves(x_min, x_max, x_test,y_test):\n",
    "    threshold_list, sensitivity_list, specificity_list, accuracy_list = calculate_metrics(x_test, y_test)\n",
    "    x = threshold_list\n",
    "\n",
    "    fig=plt.figure(figsize=(6,6))\n",
    "    fig.show()\n",
    "    ax=fig.add_subplot(111)\n",
    "\n",
    "    ax.plot(x,sensitivity_list,c='r',label='Sensitivity',fillstyle='none')\n",
    "    ax.plot(x,specificity_list,c='blue',label='Specificity')\n",
    "    ax.plot(x,accuracy_list,c='black',label='Accuracy')\n",
    "\n",
    "    plt.xlim(x_min, x_max)\n",
    "\n",
    "    plt.grid(True)\n",
    "    plt.legend(loc=3)\n",
    "    plt.draw()"
   ]
  },
  {
   "cell_type": "code",
   "execution_count": null,
   "metadata": {},
   "outputs": [],
   "source": [
    "plot_curves(0,1, X_test,y_test)"
   ]
  },
  {
   "cell_type": "code",
   "execution_count": null,
   "metadata": {},
   "outputs": [],
   "source": [
    "plot_curves(0.35,0.5, X_test, y_test)"
   ]
  },
  {
   "cell_type": "markdown",
   "metadata": {},
   "source": [
    "## Let's train model on the whole training dataset"
   ]
  },
  {
   "cell_type": "code",
   "execution_count": 80,
   "metadata": {},
   "outputs": [
    {
     "name": "stdout",
     "output_type": "stream",
     "text": [
      "[[4114  228]\n",
      " [ 749 2522]]\n",
      "              precision    recall  f1-score   support\n",
      "\n",
      "           0       0.85      0.95      0.89      4342\n",
      "           1       0.92      0.77      0.84      3271\n",
      "\n",
      "    accuracy                           0.87      7613\n",
      "   macro avg       0.88      0.86      0.87      7613\n",
      "weighted avg       0.88      0.87      0.87      7613\n",
      "\n",
      "0.8716668855904374\n"
     ]
    }
   ],
   "source": [
    "X = df_train[['text','time']]#,'GPE']]  # this time we want to look at the text\n",
    "\n",
    "#X = df_train['text']\n",
    "y = df_train['target']\n",
    "\n",
    "stopwords = ['.','?','@','+',',','<','>','%','~','!','^','&','(',')',':',';']\n",
    "from sklearn.feature_extraction.text import TfidfVectorizer\n",
    "vectorizer = TfidfVectorizer(min_df=2, max_df=0.6, stop_words=stopwords)\n",
    "\n",
    "X_train_ = vectorizer.fit_transform(X.text) # remember to use the original X_train set\n",
    "X_train = hstack((X_train_, np.array([X.time.values]).T))\n",
    "clf_lr = LogisticRegression()\n",
    "clf_lr.fit(X_train,y)\n",
    "\n",
    "predictions = clf_lr.predict(X_train)\n",
    "print(metrics.confusion_matrix(y,predictions))\n",
    "# Print a classification report\n",
    "print(metrics.classification_report(y,predictions))\n",
    "# Print the overall accuracy\n",
    "print(metrics.accuracy_score(y,predictions))"
   ]
  },
  {
   "cell_type": "code",
   "execution_count": 71,
   "metadata": {},
   "outputs": [
    {
     "name": "stderr",
     "output_type": "stream",
     "text": [
      "<ipython-input-70-eef54636fa70>:9: UserWarning: Matplotlib is currently using module://ipykernel.pylab.backend_inline, which is a non-GUI backend, so cannot show the figure.\n",
      "  fig.show()\n"
     ]
    },
    {
     "data": {
      "image/png": "[encoded data removed]",
      "text/plain": [
       "<Figure size 432x432 with 1 Axes>"
      ]
     },
     "metadata": {
      "needs_background": "light"
     },
     "output_type": "display_data"
    }
   ],
   "source": [
    "plot_curves(0,1, X_train, y)"
   ]
  },
  {
   "cell_type": "code",
   "execution_count": null,
   "metadata": {},
   "outputs": [],
   "source": [
    "plot_curves(.36, .44, X_train, y)"
   ]
  },
  {
   "cell_type": "markdown",
   "metadata": {},
   "source": [
    "## Predict and create csv for kaggle"
   ]
  },
  {
   "cell_type": "code",
   "execution_count": 72,
   "metadata": {},
   "outputs": [],
   "source": [
    "X_test_df = df_test[['text','time']]#,'GPE']]  # this time we want to look at the text\n",
    "\n",
    "X_test_ = vectorizer.transform(X_test_df.text) # remember to use the original X_train set\n",
    "X_test = hstack((X_test_, np.array([X_test_df.time.values]).T))\n",
    "\n",
    "predictions = clf_lr.predict_proba(X_test)\n"
   ]
  },
  {
   "cell_type": "code",
   "execution_count": 73,
   "metadata": {},
   "outputs": [],
   "source": [
    "df_test[\"target\"] = predictions[:,1]\n",
    "df_test.drop([\"text\"], axis=1,inplace=True)\n",
    "df_test.drop([\"time\"], axis=1,inplace=True)"
   ]
  },
  {
   "cell_type": "code",
   "execution_count": 76,
   "metadata": {},
   "outputs": [
    {
     "data": {
      "text/html": [
       "<div>\n",
       "<style scoped>\n",
       "    .dataframe tbody tr th:only-of-type {\n",
       "        vertical-align: middle;\n",
       "    }\n",
       "\n",
       "    .dataframe tbody tr th {\n",
       "        vertical-align: top;\n",
       "    }\n",
       "\n",
       "    .dataframe thead th {\n",
       "        text-align: right;\n",
       "    }\n",
       "</style>\n",
       "<table border=\"1\" class=\"dataframe\">\n",
       "  <thead>\n",
       "    <tr style=\"text-align: right;\">\n",
       "      <th></th>\n",
       "      <th>id</th>\n",
       "      <th>target</th>\n",
       "    </tr>\n",
       "  </thead>\n",
       "  <tbody>\n",
       "    <tr>\n",
       "      <th>0</th>\n",
       "      <td>0</td>\n",
       "      <td>1</td>\n",
       "    </tr>\n",
       "    <tr>\n",
       "      <th>1</th>\n",
       "      <td>2</td>\n",
       "      <td>0</td>\n",
       "    </tr>\n",
       "    <tr>\n",
       "      <th>2</th>\n",
       "      <td>3</td>\n",
       "      <td>1</td>\n",
       "    </tr>\n",
       "    <tr>\n",
       "      <th>3</th>\n",
       "      <td>9</td>\n",
       "      <td>0</td>\n",
       "    </tr>\n",
       "    <tr>\n",
       "      <th>4</th>\n",
       "      <td>11</td>\n",
       "      <td>1</td>\n",
       "    </tr>\n",
       "    <tr>\n",
       "      <th>5</th>\n",
       "      <td>12</td>\n",
       "      <td>1</td>\n",
       "    </tr>\n",
       "    <tr>\n",
       "      <th>6</th>\n",
       "      <td>21</td>\n",
       "      <td>0</td>\n",
       "    </tr>\n",
       "    <tr>\n",
       "      <th>7</th>\n",
       "      <td>22</td>\n",
       "      <td>0</td>\n",
       "    </tr>\n",
       "  </tbody>\n",
       "</table>\n",
       "</div>"
      ],
      "text/plain": [
       "   id  target\n",
       "0   0       1\n",
       "1   2       0\n",
       "2   3       1\n",
       "3   9       0\n",
       "4  11       1\n",
       "5  12       1\n",
       "6  21       0\n",
       "7  22       0"
      ]
     },
     "metadata": {},
     "output_type": "display_data"
    },
    {
     "data": {
      "text/plain": [
       "0    2144\n",
       "1    1119\n",
       "Name: target, dtype: int64"
      ]
     },
     "execution_count": 76,
     "metadata": {},
     "output_type": "execute_result"
    }
   ],
   "source": [
    "display(df_test.head(8))\n",
    "df_test.target.value_counts()"
   ]
  },
  {
   "cell_type": "code",
   "execution_count": 75,
   "metadata": {},
   "outputs": [],
   "source": [
    "df_test[\"target\"] = df_test[\"target\"].apply(lambda x: 1 if x > 0.5 else 0)"
   ]
  },
  {
   "cell_type": "code",
   "execution_count": 77,
   "metadata": {},
   "outputs": [],
   "source": [
    "df_test.to_csv(\"nlp-getting-started/answer.csv\", index=False)"
   ]
  },
  {
   "cell_type": "code",
   "execution_count": null,
   "metadata": {},
   "outputs": [],
   "source": []
  },
  {
   "cell_type": "code",
   "execution_count": null,
   "metadata": {},
   "outputs": [],
   "source": []
  },
  {
   "cell_type": "markdown",
   "metadata": {},
   "source": [
    "## Build a Pipeline"
   ]
  },
  {
   "cell_type": "code",
   "execution_count": null,
   "metadata": {},
   "outputs": [],
   "source": [
    "stopwords = ['a', 'about', 'an', 'and', 'are', 'as', 'at', 'be', 'been', 'but', 'by', 'can', \\\n",
    "             'even', 'ever', 'for', 'from', 'get', 'had', 'has', 'have', 'he', 'her', 'hers', 'his', \\\n",
    "             'how', 'i', 'if', 'in', 'into', 'is', 'it', 'its', 'just', 'me', 'my', 'of', 'on', 'or', \\\n",
    "             'see', 'seen', 'she', 'so', 'than', 'that', 'the', 'their', 'there', 'they', 'this', \\\n",
    "             'to', 'was', 'we', 'were', 'what', 'when', 'which', 'who', 'will', 'with', 'you']"
   ]
  },
  {
   "cell_type": "code",
   "execution_count": null,
   "metadata": {},
   "outputs": [],
   "source": [
    "from sklearn.pipeline import Pipeline\n",
    "from sklearn.feature_extraction.text import TfidfVectorizer\n",
    "from sklearn.svm import LinearSVC\n",
    "from sklearn.naive_bayes import MultinomialNB\n",
    "from sklearn.linear_model import LogisticRegression\n",
    "\n",
    "text_clf = Pipeline([('tfidf', TfidfVectorizer(stop_words=None)),\n",
    "                     ('clf', LinearSVC()),\n",
    "])\n",
    "\n",
    "\n",
    "# Naïve Bayes:\n",
    "text_clf_nb = Pipeline([('tfidf', TfidfVectorizer(stop_words=None)),\n",
    "                     ('clf', MultinomialNB()),\n",
    "])\n",
    "\n",
    "text_clf_logistic_regression = Pipeline([('tfidf', TfidfVectorizer(stop_words=None)),\n",
    "                                         ('clf', LogisticRegression()),\n",
    "])\n"
   ]
  },
  {
   "cell_type": "markdown",
   "metadata": {},
   "source": [
    "## Test the classifier and display results"
   ]
  },
  {
   "cell_type": "code",
   "execution_count": null,
   "metadata": {},
   "outputs": [],
   "source": [
    "text_clf.fit(X_train, y_train)  \n",
    "text_clf_nb.fit(X_train, y_train)  \n",
    "text_clf_logistic_regression.fit(X_train, y_train)  \n",
    "\n",
    "models_dict = {\"SVC\": text_clf, \"Naïve Bayes\":text_clf_nb, \n",
    "               \"Logistic_Reg.(threshold=0.5)\":text_clf_logistic_regression}\n",
    "for key, model in models_dict.items():\n",
    "    print(key)\n",
    "    metric_score(model)\n",
    "    print(\"-\"*55)"
   ]
  },
  {
   "cell_type": "markdown",
   "metadata": {},
   "source": [
    "## Predict values on test dataset & save results"
   ]
  },
  {
   "cell_type": "code",
   "execution_count": null,
   "metadata": {},
   "outputs": [],
   "source": [
    "df_test.head()"
   ]
  },
  {
   "cell_type": "code",
   "execution_count": null,
   "metadata": {},
   "outputs": [],
   "source": [
    "df_test['text']"
   ]
  },
  {
   "cell_type": "code",
   "execution_count": null,
   "metadata": {},
   "outputs": [],
   "source": [
    "test_predictions = text_clf.predict(df_test['text'])\n",
    "df_test[\"target\"] = test_predictions"
   ]
  },
  {
   "cell_type": "code",
   "execution_count": null,
   "metadata": {},
   "outputs": [],
   "source": [
    "df_test.head()"
   ]
  },
  {
   "cell_type": "code",
   "execution_count": null,
   "metadata": {},
   "outputs": [],
   "source": [
    "df_test.drop([\"text\"], axis=1,inplace=True)"
   ]
  },
  {
   "cell_type": "code",
   "execution_count": null,
   "metadata": {},
   "outputs": [],
   "source": [
    "df_test.to_csv(\"nlp-getting-started/answer.csv\", index=False)"
   ]
  },
  {
   "cell_type": "markdown",
   "metadata": {},
   "source": [
    "## Чтобы попробывать  \n",
    "* EDA:\n",
    "    1. Dict of word frequency\n",
    "    2. Based on 1, calculate p-value for top-N the most/last frequent \n",
    "    \n",
    "\n",
    "\n",
    "* Logistic regression -> useing ROC to determine threshold value (not 0.5 maybe)  \n",
    "\n",
    "\n",
    "* советы с https://machinelearningmastery.com?\n",
    "\n",
    "### Вывод:  \n",
    "Из Dict of word frequency понял, что следует убрать все ссылки  \n",
    "Пример:  `http://t.co/zLvEbEoavG`.  \n",
    "*Ссылки не всегда в конце текста!*"
   ]
  }
 ],
 "metadata": {
  "kernelspec": {
   "display_name": "Python 3",
   "language": "python",
   "name": "python3"
  },
  "language_info": {
   "codemirror_mode": {
    "name": "ipython",
    "version": 3
   },
   "file_extension": ".py",
   "mimetype": "text/x-python",
   "name": "python",
   "nbconvert_exporter": "python",
   "pygments_lexer": "ipython3",
   "version": "3.8.3"
  }
 },
 "nbformat": 4,
 "nbformat_minor": 4
}
